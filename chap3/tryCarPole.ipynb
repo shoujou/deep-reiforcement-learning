{
 "cells": [
  {
   "cell_type": "code",
   "execution_count": 9,
   "metadata": {},
   "outputs": [],
   "source": [
    "# 使用するパッケージの宣言\n",
    "import numpy as np\n",
    "import matplotlib.pyplot as plt\n",
    "%matplotlib inline\n",
    "import gym"
   ]
  },
  {
   "cell_type": "code",
   "execution_count": 10,
   "metadata": {},
   "outputs": [],
   "source": [
    "# 動画の描画関数の宣言\n",
    "# 参考URL http://nbviewer.jupyter.org/github/patrickmineault/xcorr-notebooks/blob/master/Render%20OpenAI%20gym%20as%20GIF.ipynb\n",
    "from JSAnimation.IPython_display import display_animation\n",
    "from matplotlib import animation\n",
    "from IPython.display import display\n",
    "\n",
    "\n",
    "def display_frames_as_gif(frames):\n",
    "    \"\"\"\n",
    "    Displays a list of frames as a gif, with controls\n",
    "    \"\"\"\n",
    "    plt.figure(figsize=(frames[0].shape[1]/72.0, frames[0].shape[0]/72.0),\n",
    "               dpi=72)\n",
    "    patch = plt.imshow(frames[0])\n",
    "    plt.axis('off')\n",
    "\n",
    "    def animate(i):\n",
    "        patch.set_data(frames[i])\n",
    "\n",
    "    anim = animation.FuncAnimation(plt.gcf(), animate, frames=len(frames),\n",
    "                                   interval=50)\n",
    "\n",
    "    anim.save('movie_cartpole.mp4')  # 追記：動画の保存です\n",
    "    display(display_animation(anim, default_mode='loop'))"
   ]
  },
  {
   "cell_type": "code",
   "execution_count": 11,
   "metadata": {},
   "outputs": [
    {
     "name": "stderr",
     "output_type": "stream",
     "text": [
      "/home/kohei/anaconda3/envs/drl/lib/python3.10/site-packages/gym/envs/registration.py:564: UserWarning: \u001b[33mWARN: The environment CartPole-v0 is out of date. You should consider upgrading to version `v1`.\u001b[0m\n",
      "  logger.warn(\n",
      "/home/kohei/anaconda3/envs/drl/lib/python3.10/site-packages/gym/utils/passive_env_checker.py:97: UserWarning: \u001b[33mWARN: We recommend you to use a symmetric and normalized Box action space (range=[-1, 1]) https://stable-baselines3.readthedocs.io/en/master/guide/rl_tips.html\u001b[0m\n",
      "  logger.warn(\n",
      "/home/kohei/anaconda3/envs/drl/lib/python3.10/site-packages/gym/envs/classic_control/cartpole.py:168: UserWarning: \u001b[33mWARN: You are calling 'step()' even though this environment has already returned done = True. You should always call 'reset()' once you receive 'done = True' -- any further steps are undefined behavior.\u001b[0m\n",
      "  logger.warn(\n"
     ]
    }
   ],
   "source": [
    "# CartPoleをランダムに動かす\n",
    "\n",
    "frames = []\n",
    "env = gym.make('CartPole-v0')\n",
    "observation = env.reset()  # 最初に環境のresetが必要\n",
    "\n",
    "for step in range(0, 200):\n",
    "    frames.append(env.render(mode='rgb_array'))  # framesに各時刻の画像を追加していく\n",
    "    action = np.random.choice(2)  # 0(カートを左に押す), 1(カートを右に押す)をランダムに返す\n",
    "    observation, reward, done, info = env.step(action)  # actionを実行する\n",
    "\n",
    "# 注意：実行後にipykernel_launcher.p...というindowが開いて固まりますが放置しておいてください"
   ]
  },
  {
   "cell_type": "code",
   "execution_count": 12,
   "metadata": {},
   "outputs": [
    {
     "ename": "TypeError",
     "evalue": "FileMovieWriter.setup() got an unexpected keyword argument 'clear_temp'",
     "output_type": "error",
     "traceback": [
      "\u001b[0;31m---------------------------------------------------------------------------\u001b[0m",
      "\u001b[0;31mTypeError\u001b[0m                                 Traceback (most recent call last)",
      "\u001b[1;32m/home/kohei/workspace/deep-reiforcement-learning/chap3/tryCarPole.ipynb Cell 4'\u001b[0m in \u001b[0;36m<cell line: 2>\u001b[0;34m()\u001b[0m\n\u001b[1;32m      <a href='vscode-notebook-cell:/home/kohei/workspace/deep-reiforcement-learning/chap3/tryCarPole.ipynb#ch0000003?line=0'>1</a>\u001b[0m \u001b[39m# 動画を保存と描画\u001b[39;00m\n\u001b[0;32m----> <a href='vscode-notebook-cell:/home/kohei/workspace/deep-reiforcement-learning/chap3/tryCarPole.ipynb#ch0000003?line=1'>2</a>\u001b[0m display_frames_as_gif(frames)\n",
      "\u001b[1;32m/home/kohei/workspace/deep-reiforcement-learning/chap3/tryCarPole.ipynb Cell 2'\u001b[0m in \u001b[0;36mdisplay_frames_as_gif\u001b[0;34m(frames)\u001b[0m\n\u001b[1;32m     <a href='vscode-notebook-cell:/home/kohei/workspace/deep-reiforcement-learning/chap3/tryCarPole.ipynb#ch0000001?line=19'>20</a>\u001b[0m anim \u001b[39m=\u001b[39m animation\u001b[39m.\u001b[39mFuncAnimation(plt\u001b[39m.\u001b[39mgcf(), animate, frames\u001b[39m=\u001b[39m\u001b[39mlen\u001b[39m(frames),\n\u001b[1;32m     <a href='vscode-notebook-cell:/home/kohei/workspace/deep-reiforcement-learning/chap3/tryCarPole.ipynb#ch0000001?line=20'>21</a>\u001b[0m                                interval\u001b[39m=\u001b[39m\u001b[39m50\u001b[39m)\n\u001b[1;32m     <a href='vscode-notebook-cell:/home/kohei/workspace/deep-reiforcement-learning/chap3/tryCarPole.ipynb#ch0000001?line=22'>23</a>\u001b[0m anim\u001b[39m.\u001b[39msave(\u001b[39m'\u001b[39m\u001b[39mmovie_cartpole.mp4\u001b[39m\u001b[39m'\u001b[39m)  \u001b[39m# 追記：動画の保存です\u001b[39;00m\n\u001b[0;32m---> <a href='vscode-notebook-cell:/home/kohei/workspace/deep-reiforcement-learning/chap3/tryCarPole.ipynb#ch0000001?line=23'>24</a>\u001b[0m display(display_animation(anim, default_mode\u001b[39m=\u001b[39;49m\u001b[39m'\u001b[39;49m\u001b[39mloop\u001b[39;49m\u001b[39m'\u001b[39;49m))\n",
      "File \u001b[0;32m~/anaconda3/envs/drl/lib/python3.10/site-packages/JSAnimation/IPython_display.py:86\u001b[0m, in \u001b[0;36mdisplay_animation\u001b[0;34m(anim, **kwargs)\u001b[0m\n\u001b[1;32m     84\u001b[0m \u001b[39m\"\"\"Display the animation with an IPython HTML object\"\"\"\u001b[39;00m\n\u001b[1;32m     85\u001b[0m \u001b[39mfrom\u001b[39;00m \u001b[39mIPython\u001b[39;00m\u001b[39m.\u001b[39;00m\u001b[39mdisplay\u001b[39;00m \u001b[39mimport\u001b[39;00m HTML\n\u001b[0;32m---> 86\u001b[0m \u001b[39mreturn\u001b[39;00m HTML(anim_to_html(anim, \u001b[39m*\u001b[39;49m\u001b[39m*\u001b[39;49mkwargs))\n",
      "File \u001b[0;32m~/anaconda3/envs/drl/lib/python3.10/site-packages/JSAnimation/IPython_display.py:74\u001b[0m, in \u001b[0;36manim_to_html\u001b[0;34m(anim, fps, embed_frames, default_mode)\u001b[0m\n\u001b[1;32m     69\u001b[0m \u001b[39melse\u001b[39;00m:\n\u001b[1;32m     70\u001b[0m     \u001b[39m# tempfile can't be used here: we need a filename, and this\u001b[39;00m\n\u001b[1;32m     71\u001b[0m     \u001b[39m# fails on windows.  Instead, we use a custom filename generator\u001b[39;00m\n\u001b[1;32m     72\u001b[0m     \u001b[39m#with tempfile.NamedTemporaryFile(suffix='.html') as f:\u001b[39;00m\n\u001b[1;32m     73\u001b[0m     \u001b[39mwith\u001b[39;00m _NameOnlyTemporaryFile(suffix\u001b[39m=\u001b[39m\u001b[39m'\u001b[39m\u001b[39m.html\u001b[39m\u001b[39m'\u001b[39m) \u001b[39mas\u001b[39;00m f:\n\u001b[0;32m---> 74\u001b[0m         anim\u001b[39m.\u001b[39;49msave(f\u001b[39m.\u001b[39;49mname,  writer\u001b[39m=\u001b[39;49mHTMLWriter(fps\u001b[39m=\u001b[39;49mfps,\n\u001b[1;32m     75\u001b[0m                                              embed_frames\u001b[39m=\u001b[39;49membed_frames,\n\u001b[1;32m     76\u001b[0m                                              default_mode\u001b[39m=\u001b[39;49mdefault_mode))\n\u001b[1;32m     77\u001b[0m         html \u001b[39m=\u001b[39m \u001b[39mopen\u001b[39m(f\u001b[39m.\u001b[39mname)\u001b[39m.\u001b[39mread()\n\u001b[1;32m     79\u001b[0m     anim\u001b[39m.\u001b[39m_html_representation \u001b[39m=\u001b[39m html\n",
      "File \u001b[0;32m~/anaconda3/envs/drl/lib/python3.10/site-packages/matplotlib/animation.py:1073\u001b[0m, in \u001b[0;36mAnimation.save\u001b[0;34m(self, filename, writer, fps, dpi, codec, bitrate, extra_args, metadata, extra_anim, savefig_kwargs, progress_callback)\u001b[0m\n\u001b[1;32m   1067\u001b[0m     _log\u001b[39m.\u001b[39minfo(\u001b[39m\"\u001b[39m\u001b[39mDisabling savefig.bbox = \u001b[39m\u001b[39m'\u001b[39m\u001b[39mtight\u001b[39m\u001b[39m'\u001b[39m\u001b[39m, as it may cause \u001b[39m\u001b[39m\"\u001b[39m\n\u001b[1;32m   1068\u001b[0m               \u001b[39m\"\u001b[39m\u001b[39mframe size to vary, which is inappropriate for \u001b[39m\u001b[39m\"\u001b[39m\n\u001b[1;32m   1069\u001b[0m               \u001b[39m\"\u001b[39m\u001b[39manimation.\u001b[39m\u001b[39m\"\u001b[39m)\n\u001b[1;32m   1070\u001b[0m \u001b[39m# canvas._is_saving = True makes the draw_event animation-starting\u001b[39;00m\n\u001b[1;32m   1071\u001b[0m \u001b[39m# callback a no-op; canvas.manager = None prevents resizing the GUI\u001b[39;00m\n\u001b[1;32m   1072\u001b[0m \u001b[39m# widget (both are likewise done in savefig()).\u001b[39;00m\n\u001b[0;32m-> 1073\u001b[0m \u001b[39mwith\u001b[39;00m mpl\u001b[39m.\u001b[39mrc_context({\u001b[39m'\u001b[39m\u001b[39msavefig.bbox\u001b[39m\u001b[39m'\u001b[39m: \u001b[39mNone\u001b[39;00m}), \\\n\u001b[1;32m   1074\u001b[0m      writer\u001b[39m.\u001b[39msaving(\u001b[39mself\u001b[39m\u001b[39m.\u001b[39m_fig, filename, dpi), \\\n\u001b[1;32m   1075\u001b[0m      cbook\u001b[39m.\u001b[39m_setattr_cm(\u001b[39mself\u001b[39m\u001b[39m.\u001b[39m_fig\u001b[39m.\u001b[39mcanvas,\n\u001b[1;32m   1076\u001b[0m                        _is_saving\u001b[39m=\u001b[39m\u001b[39mTrue\u001b[39;00m, manager\u001b[39m=\u001b[39m\u001b[39mNone\u001b[39;00m):\n\u001b[1;32m   1077\u001b[0m     \u001b[39mfor\u001b[39;00m anim \u001b[39min\u001b[39;00m all_anim:\n\u001b[1;32m   1078\u001b[0m         anim\u001b[39m.\u001b[39m_init_draw()  \u001b[39m# Clear the initial frame\u001b[39;00m\n",
      "File \u001b[0;32m~/anaconda3/envs/drl/lib/python3.10/contextlib.py:135\u001b[0m, in \u001b[0;36m_GeneratorContextManager.__enter__\u001b[0;34m(self)\u001b[0m\n\u001b[1;32m    133\u001b[0m \u001b[39mdel\u001b[39;00m \u001b[39mself\u001b[39m\u001b[39m.\u001b[39margs, \u001b[39mself\u001b[39m\u001b[39m.\u001b[39mkwds, \u001b[39mself\u001b[39m\u001b[39m.\u001b[39mfunc\n\u001b[1;32m    134\u001b[0m \u001b[39mtry\u001b[39;00m:\n\u001b[0;32m--> 135\u001b[0m     \u001b[39mreturn\u001b[39;00m \u001b[39mnext\u001b[39;49m(\u001b[39mself\u001b[39;49m\u001b[39m.\u001b[39;49mgen)\n\u001b[1;32m    136\u001b[0m \u001b[39mexcept\u001b[39;00m \u001b[39mStopIteration\u001b[39;00m:\n\u001b[1;32m    137\u001b[0m     \u001b[39mraise\u001b[39;00m \u001b[39mRuntimeError\u001b[39;00m(\u001b[39m\"\u001b[39m\u001b[39mgenerator didn\u001b[39m\u001b[39m'\u001b[39m\u001b[39mt yield\u001b[39m\u001b[39m\"\u001b[39m) \u001b[39mfrom\u001b[39;00m \u001b[39mNone\u001b[39m\n",
      "File \u001b[0;32m~/anaconda3/envs/drl/lib/python3.10/site-packages/matplotlib/animation.py:234\u001b[0m, in \u001b[0;36mAbstractMovieWriter.saving\u001b[0;34m(self, fig, outfile, dpi, *args, **kwargs)\u001b[0m\n\u001b[1;32m    228\u001b[0m \u001b[39m\"\"\"\u001b[39;00m\n\u001b[1;32m    229\u001b[0m \u001b[39mContext manager to facilitate writing the movie file.\u001b[39;00m\n\u001b[1;32m    230\u001b[0m \n\u001b[1;32m    231\u001b[0m \u001b[39m``*args, **kw`` are any parameters that should be passed to `setup`.\u001b[39;00m\n\u001b[1;32m    232\u001b[0m \u001b[39m\"\"\"\u001b[39;00m\n\u001b[1;32m    233\u001b[0m \u001b[39m# This particular sequence is what contextlib.contextmanager wants\u001b[39;00m\n\u001b[0;32m--> 234\u001b[0m \u001b[39mself\u001b[39;49m\u001b[39m.\u001b[39;49msetup(fig, outfile, dpi, \u001b[39m*\u001b[39;49margs, \u001b[39m*\u001b[39;49m\u001b[39m*\u001b[39;49mkwargs)\n\u001b[1;32m    235\u001b[0m \u001b[39mtry\u001b[39;00m:\n\u001b[1;32m    236\u001b[0m     \u001b[39myield\u001b[39;00m \u001b[39mself\u001b[39m\n",
      "File \u001b[0;32m~/anaconda3/envs/drl/lib/python3.10/site-packages/JSAnimation/html_writer.py:281\u001b[0m, in \u001b[0;36mHTMLWriter.setup\u001b[0;34m(self, fig, outfile, dpi, frame_dir)\u001b[0m\n\u001b[1;32m    278\u001b[0m \u001b[39melse\u001b[39;00m:\n\u001b[1;32m    279\u001b[0m     frame_prefix \u001b[39m=\u001b[39m \u001b[39mNone\u001b[39;00m\n\u001b[0;32m--> 281\u001b[0m \u001b[39msuper\u001b[39;49m(HTMLWriter, \u001b[39mself\u001b[39;49m)\u001b[39m.\u001b[39;49msetup(fig, outfile, dpi,\n\u001b[1;32m    282\u001b[0m                               frame_prefix, clear_temp\u001b[39m=\u001b[39;49m\u001b[39mFalse\u001b[39;49;00m)\n",
      "\u001b[0;31mTypeError\u001b[0m: FileMovieWriter.setup() got an unexpected keyword argument 'clear_temp'"
     ]
    },
    {
     "ename": "",
     "evalue": "",
     "output_type": "error",
     "traceback": [
      "\u001b[1;31mThe Kernel crashed while executing code in the the current cell or a previous cell. Please review the code in the cell(s) to identify a possible cause of the failure. Click <a href='https://aka.ms/vscodeJupyterKernelCrash'>here</a> for more info. View Jupyter <a href='command:jupyter.viewOutput'>log</a> for further details."
     ]
    }
   ],
   "source": [
    "# 動画を保存と描画\n",
    "display_frames_as_gif(frames)"
   ]
  }
 ],
 "metadata": {
  "kernelspec": {
   "display_name": "Python 3.10.4 ('drl')",
   "language": "python",
   "name": "python3"
  },
  "language_info": {
   "codemirror_mode": {
    "name": "ipython",
    "version": 3
   },
   "file_extension": ".py",
   "mimetype": "text/x-python",
   "name": "python",
   "nbconvert_exporter": "python",
   "pygments_lexer": "ipython3",
   "version": "3.10.4"
  },
  "vscode": {
   "interpreter": {
    "hash": "a0dd954f109013c6e6a653604d00eb9fdb38f0d0d6f7ac73e881f9ce7250da1e"
   }
  }
 },
 "nbformat": 4,
 "nbformat_minor": 2
}
