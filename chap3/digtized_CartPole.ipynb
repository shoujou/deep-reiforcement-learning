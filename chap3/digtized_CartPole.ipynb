{
 "cells": [
  {
   "cell_type": "code",
   "execution_count": 34,
   "metadata": {},
   "outputs": [],
   "source": [
    "# 使用するパッケージの宣言\n",
    "import numpy as np\n",
    "import matplotlib.pyplot as plt\n",
    "%matplotlib inline\n",
    "import gym"
   ]
  },
  {
   "cell_type": "code",
   "execution_count": 35,
   "metadata": {},
   "outputs": [],
   "source": [
    "# 定数の設定\n",
    "ENV = 'CartPole-v0'  # 使用する課題名\n",
    "NUM_DIZITIZED = 6  # 各状態の離散値への分割数"
   ]
  },
  {
   "cell_type": "code",
   "execution_count": 36,
   "metadata": {},
   "outputs": [],
   "source": [
    "# CartPoleを実行してみる\n",
    "env = gym.make(ENV)  # 実行する課題を設定\n",
    "observation = env.reset()  # 環境の初期化"
   ]
  },
  {
   "cell_type": "code",
   "execution_count": 37,
   "metadata": {},
   "outputs": [],
   "source": [
    "# 離散化の閾値を求める\n",
    "\n",
    "def bins(clip_min, clip_max, num):\n",
    "    '''観測した状態（連続値）を離散値にデジタル変換する閾値を求める'''\n",
    "    return np.linspace(clip_min, clip_max, num + 1)[1:-1]"
   ]
  },
  {
   "cell_type": "code",
   "execution_count": 38,
   "metadata": {},
   "outputs": [
    {
     "data": {
      "text/plain": [
       "array([-2.4, -1.6, -0.8,  0. ,  0.8,  1.6,  2.4])"
      ]
     },
     "execution_count": 38,
     "metadata": {},
     "output_type": "execute_result"
    }
   ],
   "source": [
    "np.linspace(-2.4, 2.4, 6 + 1)"
   ]
  },
  {
   "cell_type": "code",
   "execution_count": 39,
   "metadata": {},
   "outputs": [
    {
     "data": {
      "text/plain": [
       "array([-1.6, -0.8,  0. ,  0.8,  1.6])"
      ]
     },
     "execution_count": 39,
     "metadata": {},
     "output_type": "execute_result"
    }
   ],
   "source": [
    "np.linspace(-2.4, 2.4, 6 + 1)[1:-1]"
   ]
  },
  {
   "cell_type": "code",
   "execution_count": 40,
   "metadata": {},
   "outputs": [],
   "source": [
    "def digitize_state(observation):\n",
    "    '''観測したobservation状態を、離散値に変換する'''\n",
    "    cart_pos, cart_v, pole_angle, pole_v = observation\n",
    "    digitized = [\n",
    "        np.digitize(cart_pos, bins=bins(-2.4, 2.4, NUM_DIZITIZED)),\n",
    "        np.digitize(cart_v, bins=bins(-3.0, 3.0, NUM_DIZITIZED)),\n",
    "        np.digitize(pole_angle, bins=bins(-0.5, 0.5, NUM_DIZITIZED)),\n",
    "        np.digitize(pole_v, bins=bins(-2.0, 2.0, NUM_DIZITIZED))]\n",
    "    return sum([x * (NUM_DIZITIZED**i) for i, x in enumerate(digitized)])"
   ]
  },
  {
   "cell_type": "code",
   "execution_count": 41,
   "metadata": {},
   "outputs": [
    {
     "data": {
      "text/plain": [
       "560"
      ]
     },
     "execution_count": 41,
     "metadata": {},
     "output_type": "execute_result"
    }
   ],
   "source": [
    "digitize_state(observation)"
   ]
  }
 ],
 "metadata": {
  "kernelspec": {
   "display_name": "Python 3.10.4 ('DRL')",
   "language": "python",
   "name": "python3"
  },
  "language_info": {
   "codemirror_mode": {
    "name": "ipython",
    "version": 3
   },
   "file_extension": ".py",
   "mimetype": "text/x-python",
   "name": "python",
   "nbconvert_exporter": "python",
   "pygments_lexer": "ipython3",
   "version": "3.9.7"
  },
  "orig_nbformat": 4,
  "vscode": {
   "interpreter": {
    "hash": "40d2d6c28f576aa83b6c6de4702867b1bdc8792c83cf2e521926a349eebb3c4c"
   }
  }
 },
 "nbformat": 4,
 "nbformat_minor": 2
}
